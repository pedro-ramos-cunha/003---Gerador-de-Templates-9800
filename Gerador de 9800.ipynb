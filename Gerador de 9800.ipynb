{
 "cells": [
  {
   "cell_type": "markdown",
   "metadata": {},
   "source": [
    "# Código Gerador de template do Arquivo 9800"
   ]
  },
  {
   "cell_type": "markdown",
   "metadata": {},
   "source": [
    "#### 0000 - Import das Bibliotecas"
   ]
  },
  {
   "cell_type": "code",
   "execution_count": 1,
   "metadata": {},
   "outputs": [],
   "source": [
    "import xml.etree.ElementTree as ET\n",
    "import pandas as pd\n",
    "import numpy as np"
   ]
  },
  {
   "cell_type": "markdown",
   "metadata": {},
   "source": [
    "#### 0001 - Carregamento do Arquivo Excel"
   ]
  },
  {
   "cell_type": "code",
   "execution_count": 2,
   "metadata": {},
   "outputs": [],
   "source": [
    "data = pd.read_csv(r'C:\\Users\\User_name\\...\\FileName.csv',delimiter=';',dtype=str)\n"
   ]
  },
  {
   "cell_type": "markdown",
   "metadata": {},
   "source": [
    "#### 0002 - Função de Verificação se 'Not a Number'"
   ]
  },
  {
   "cell_type": "code",
   "execution_count": 4,
   "metadata": {},
   "outputs": [],
   "source": [
    "def is_nan(value):\n",
    "    return value!=value\n"
   ]
  },
  {
   "cell_type": "markdown",
   "metadata": {},
   "source": [
    "#### 0003 - Confecção do Arquivo"
   ]
  },
  {
   "cell_type": "code",
   "execution_count": 5,
   "metadata": {},
   "outputs": [],
   "source": [
    "a = open(r'C:\\Users\\User_name\\...\\FileName.xml', 'w',encoding='utf8')\n",
    "a.write('<?xml version=\"1.0\" encoding=\"UTF-8\"?>\\n')\n",
    "a.write('<asvr9800>\\n')\n",
    "a.write('   <codDoc>9800</codDoc>\\n')\n",
    "a.write('   <tipoEnvio>     </tipoEnvio>\\n')\n",
    "a.write('   <dataBase>      </dataBase>\\n')\n",
    "a.write('   <cnpjIf>        </cnpjIf>\\n')\n",
    "for x in range(0,len(data)):\n",
    "    a.write('    <valor>\\n')\n",
    "    a.write('        <id>'+data.id[x]+'</id>\\n')\n",
    "    a.write('            <beneficiarios>\\n')\n",
    "    if is_nan(data.cnpj[x]):\n",
    "        a.write('            <cpf>'+data.cpf[x]+'</cpf>\\n')\n",
    "    else:\n",
    "        a.write('            <cnpj>'+str(data.cnpj[x])+'</cnpj>\\n')\n",
    "    a.write('            </beneficiarios>\\n')\n",
    "    a.write('        <valorADevolver>'+data.valorADevolver[x]+'</valorADevolver>\\n')\n",
    "    a.write('        <codOrigem>'+data.codOrigem[x]+'</codOrigem>\\n')\n",
    "    a.write('        <infAdicionais>Observações relacionadas devolução</infAdicionais>\\n')\n",
    "    a.write('    </valor>\\n')\n",
    "a.write('</asvr9800>\\n')\n",
    "\n",
    "\n",
    "\n",
    "a.close()"
   ]
  }
 ],
 "metadata": {
  "kernelspec": {
   "display_name": "Python 3.9.12 ('base')",
   "language": "python",
   "name": "python3"
  },
  "language_info": {
   "codemirror_mode": {
    "name": "ipython",
    "version": 3
   },
   "file_extension": ".py",
   "mimetype": "text/x-python",
   "name": "python",
   "nbconvert_exporter": "python",
   "pygments_lexer": "ipython3",
   "version": "3.9.12"
  },
  "orig_nbformat": 4,
  "vscode": {
   "interpreter": {
    "hash": "2cf350f9a4cec7c2d32d47a4331379ded410d2f4248a5923bbd06122472f3454"
   }
  }
 },
 "nbformat": 4,
 "nbformat_minor": 2
}
